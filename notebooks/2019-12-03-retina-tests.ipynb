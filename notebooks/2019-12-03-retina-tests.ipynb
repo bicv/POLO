{
 "cells": [
  {
   "cell_type": "code",
   "execution_count": 1,
   "metadata": {},
   "outputs": [],
   "source": [
    "import numpy as np\n",
    "import matplotlib.pyplot as plt"
   ]
  },
  {
   "cell_type": "code",
   "execution_count": 4,
   "metadata": {},
   "outputs": [
    {
     "name": "stdout",
     "output_type": "stream",
     "text": [
      "/home/dauce/Recherche/stages/Julia Gachot 2019/POLO\n"
     ]
    }
   ],
   "source": [
    "%cd ..\n",
    "from dev.retina_copie import Retina, RetinaWhiten"
   ]
  },
  {
   "cell_type": "code",
   "execution_count": 5,
   "metadata": {},
   "outputs": [],
   "source": [
    "#args = init(filename='../data/2019-07-23')\n",
    "from easydict import EasyDict\n",
    "args = EasyDict({'w': 28,\n",
    " 'minibatch_size': 10,\n",
    " 'train_batch_size': 1000,\n",
    " 'test_batch_size': 126,\n",
    " 'noise_batch_size': 1000,\n",
    " 'mean': 0.1307,\n",
    " 'std': 0.3081,\n",
    " 'N_pic': 1718,\n",
    " 'N_X': 1718,\n",
    " 'N_Y': 2444,\n",
    " 'N_X2': 98,\n",
    " 'N_Y2': 140,\n",
    " 'offset_std': 30,\n",
    " 'offset_max': 34,\n",
    " 'noise': 0.75,\n",
    " 'contrast': 0.7,\n",
    " 'sf_0': 0.1,\n",
    " 'B_sf': 0.1,\n",
    " 'N_theta': 6,\n",
    " 'N_azimuth': 48,\n",
    " 'N_eccentricity': 24,\n",
    " 'N_phase': 2,\n",
    " 'rho': 1.41,\n",
    " 'bias_deconv': True,\n",
    " 'p_dropout': 0.5,\n",
    " 'dim1': 1000,\n",
    " 'dim2': 1000,\n",
    " 'lr': 0.005,\n",
    " 'do_adam': 'adam',\n",
    " 'bn1_bn_momentum': 0,\n",
    " 'bn2_bn_momentum': 0,\n",
    " 'momentum': 0,\n",
    " 'epochs': 60,\n",
    " 'num_processes': 1,\n",
    " 'no_cuda': True,\n",
    " 'log_interval': 20,\n",
    " 'verbose': 1,\n",
    " 'filename': '../data/2019-07-23',\n",
    " 'seed': 2019,\n",
    " 'N_cv': 10,\n",
    " 'do_compute': True,\n",
    " 'save_model': True,\n",
    " 'zoomW': 300})"
   ]
  },
  {
   "cell_type": "code",
   "execution_count": 6,
   "metadata": {},
   "outputs": [
    {
     "name": "stdout",
     "output_type": "stream",
     "text": [
      "N_X : 1718\n",
      "N_Y : 2444\n",
      "N_theta : 6\n",
      "N_azimuth : 48\n",
      "N_eccentricity : 24\n",
      "N_phase : 2\n"
     ]
    }
   ],
   "source": [
    "print('N_X :', args.N_X)\n",
    "print('N_Y :', args.N_Y)\n",
    "print('N_theta :', args.N_theta)\n",
    "print('N_azimuth :', args.N_azimuth)\n",
    "print('N_eccentricity :', args.N_eccentricity)\n",
    "print('N_phase :', args.N_phase)"
   ]
  },
  {
   "cell_type": "code",
   "execution_count": 5,
   "metadata": {},
   "outputs": [],
   "source": [
    "args.N_X, args.N_Y = 768, 1024\n",
    "args_N_pic = args.N_Y"
   ]
  },
  {
   "cell_type": "code",
   "execution_count": 6,
   "metadata": {},
   "outputs": [
    {
     "name": "stdout",
     "output_type": "stream",
     "text": [
      "Creation du dictionnaire de filtres en cours...\n",
      "Dico cree\n",
      "len finale 6 2 24 16\n"
     ]
    }
   ],
   "source": [
    "retina = Retina(args)"
   ]
  },
  {
   "cell_type": "code",
   "execution_count": 7,
   "metadata": {},
   "outputs": [
    {
     "data": {
      "text/plain": [
       "dict_keys([0, 1, 2, 3, 4, 5])"
      ]
     },
     "execution_count": 7,
     "metadata": {},
     "output_type": "execute_result"
    }
   ],
   "source": [
    "retina.retina_dico.keys() # theta"
   ]
  },
  {
   "cell_type": "code",
   "execution_count": 8,
   "metadata": {},
   "outputs": [
    {
     "data": {
      "text/plain": [
       "dict_keys([0, 1])"
      ]
     },
     "execution_count": 8,
     "metadata": {},
     "output_type": "execute_result"
    }
   ],
   "source": [
    "retina.retina_dico[0].keys() # phi"
   ]
  },
  {
   "cell_type": "code",
   "execution_count": 9,
   "metadata": {},
   "outputs": [
    {
     "data": {
      "text/plain": [
       "dict_keys([0, 1, 2, 3, 4, 5, 6, 7, 8, 9, 10, 11, 12, 13, 14, 15, 16, 17, 18, 19, 20, 21, 22, 23])"
      ]
     },
     "execution_count": 9,
     "metadata": {},
     "output_type": "execute_result"
    }
   ],
   "source": [
    "retina.retina_dico[0][0].keys() # eccentricity"
   ]
  },
  {
   "cell_type": "code",
   "execution_count": 15,
   "metadata": {},
   "outputs": [],
   "source": [
    "retina.retina_dico[0][0][16].shape  # central filter"
   ]
  },
  {
   "cell_type": "code",
   "execution_count": 16,
   "metadata": {},
   "outputs": [],
   "source": [
    "retina.retina_dico[0][0][23].shape # periphery filter"
   ]
  },
  {
   "cell_type": "code",
   "execution_count": 17,
   "metadata": {},
   "outputs": [
    {
     "ename": "TypeError",
     "evalue": "only integer scalar arrays can be converted to a scalar index",
     "output_type": "error",
     "traceback": [
      "\u001b[0;31m---------------------------------------------------------------------------\u001b[0m",
      "\u001b[0;31mTypeError\u001b[0m                                 Traceback (most recent call last)",
      "\u001b[0;32m<ipython-input-17-404c0e2579a5>\u001b[0m in \u001b[0;36m<module>\u001b[0;34m\u001b[0m\n\u001b[0;32m----> 1\u001b[0;31m \u001b[0mplt\u001b[0m\u001b[0;34m.\u001b[0m\u001b[0mimshow\u001b[0m\u001b[0;34m(\u001b[0m\u001b[0mretina\u001b[0m\u001b[0;34m.\u001b[0m\u001b[0mretina_dico\u001b[0m\u001b[0;34m[\u001b[0m\u001b[0;36m2\u001b[0m\u001b[0;34m]\u001b[0m\u001b[0;34m[\u001b[0m\u001b[0;36m0\u001b[0m\u001b[0;34m]\u001b[0m\u001b[0;34m[\u001b[0m\u001b[0;36m0\u001b[0m\u001b[0;34m]\u001b[0m\u001b[0;34m.\u001b[0m\u001b[0mreshape\u001b[0m\u001b[0;34m(\u001b[0m\u001b[0;34m(\u001b[0m\u001b[0mnp\u001b[0m\u001b[0;34m.\u001b[0m\u001b[0msqrt\u001b[0m\u001b[0;34m(\u001b[0m\u001b[0mshape_0\u001b[0m\u001b[0;34m)\u001b[0m\u001b[0;34m,\u001b[0m \u001b[0mnp\u001b[0m\u001b[0;34m.\u001b[0m\u001b[0msqrt\u001b[0m\u001b[0;34m(\u001b[0m\u001b[0mshape_0\u001b[0m\u001b[0;34m)\u001b[0m\u001b[0;34m)\u001b[0m\u001b[0;34m)\u001b[0m\u001b[0;34m)\u001b[0m\u001b[0;34m\u001b[0m\u001b[0;34m\u001b[0m\u001b[0m\n\u001b[0m",
      "\u001b[0;31mTypeError\u001b[0m: only integer scalar arrays can be converted to a scalar index"
     ]
    }
   ],
   "source": [
    "plt.imshow(retina.retina_dico[2][0][16].reshape((6, 6)))"
   ]
  },
  {
   "cell_type": "code",
   "execution_count": null,
   "metadata": {},
   "outputs": [],
   "source": [
    "plt.imshow(retina.retina_dico[0][0][23].reshape((76, 76)))"
   ]
  },
  {
   "cell_type": "code",
   "execution_count": null,
   "metadata": {},
   "outputs": [],
   "source": [
    "plt.imshow(retina.retina_dico[2][0][23].reshape((76, 76)))"
   ]
  },
  {
   "cell_type": "code",
   "execution_count": null,
   "metadata": {},
   "outputs": [],
   "source": [
    "plt.imshow(retina.retina_dico[2][1][23].reshape((76, 76)))"
   ]
  },
  {
   "cell_type": "code",
   "execution_count": null,
   "metadata": {},
   "outputs": [],
   "source": [
    "from PIL import Image\n",
    "impath = 'data/i05june05_static_street_boston_p1010764.jpeg'\n",
    "im = Image.open(impath)"
   ]
  },
  {
   "cell_type": "code",
   "execution_count": null,
   "metadata": {
    "scrolled": true
   },
   "outputs": [],
   "source": [
    "im"
   ]
  },
  {
   "cell_type": "code",
   "execution_count": null,
   "metadata": {},
   "outputs": [],
   "source": [
    "im_color_npy = np.asarray(im)\n",
    "im_color_npy"
   ]
  },
  {
   "cell_type": "code",
   "execution_count": null,
   "metadata": {},
   "outputs": [],
   "source": [
    "im_bw = im.convert(\"L\")"
   ]
  },
  {
   "cell_type": "code",
   "execution_count": null,
   "metadata": {},
   "outputs": [],
   "source": [
    "im_bw"
   ]
  },
  {
   "cell_type": "code",
   "execution_count": null,
   "metadata": {},
   "outputs": [],
   "source": [
    "im_npy = np.asarray(im_bw)"
   ]
  },
  {
   "cell_type": "code",
   "execution_count": null,
   "metadata": {},
   "outputs": [],
   "source": [
    "im_npy"
   ]
  },
  {
   "cell_type": "code",
   "execution_count": null,
   "metadata": {},
   "outputs": [],
   "source": [
    "args.N_X, args.N_Y = im_npy.shape\n",
    "args_N_pic = args.N_Y"
   ]
  },
  {
   "cell_type": "code",
   "execution_count": null,
   "metadata": {},
   "outputs": [],
   "source": [
    "## "
   ]
  },
  {
   "cell_type": "code",
   "execution_count": null,
   "metadata": {},
   "outputs": [],
   "source": [
    "whiten_transform = RetinaWhiten(args)\n",
    "im_whiten = whiten_transform(im_npy)"
   ]
  },
  {
   "cell_type": "code",
   "execution_count": null,
   "metadata": {},
   "outputs": [],
   "source": [
    "plt.figure(figsize=(20,20))\n",
    "plt.imshow(im_whiten, cmap='gray')"
   ]
  },
  {
   "cell_type": "code",
   "execution_count": null,
   "metadata": {
    "scrolled": true
   },
   "outputs": [],
   "source": [
    "pixel_fullfield, retina_features = retina.transform(im_whiten)"
   ]
  },
  {
   "cell_type": "code",
   "execution_count": null,
   "metadata": {},
   "outputs": [],
   "source": [
    "retina_features.shape"
   ]
  },
  {
   "cell_type": "code",
   "execution_count": null,
   "metadata": {},
   "outputs": [],
   "source": [
    "plt.plot(retina_features)"
   ]
  },
  {
   "cell_type": "code",
   "execution_count": null,
   "metadata": {},
   "outputs": [],
   "source": [
    "img_trans = retina.inverse_transform(retina_features)"
   ]
  },
  {
   "cell_type": "code",
   "execution_count": null,
   "metadata": {},
   "outputs": [],
   "source": [
    "plt.figure(figsize=(20,20))\n",
    "plt.imshow(img_trans, cmap='gray')"
   ]
  },
  {
   "cell_type": "code",
   "execution_count": null,
   "metadata": {},
   "outputs": [],
   "source": [
    "from LogGabor import LogGabor\n",
    "\n",
    "N_theta=6\n",
    "rho = 1.41\n",
    "ecc_max = .8  # self.args.ecc_max\n",
    "sf_0_r = 0.03  # self.args.sf_0_r\n",
    "sf_0_max = 0.45\n",
    "B_theta = np.pi / N_theta / 2  # self.args.B_theta\n",
    "B_sf = .4\n",
    "\n",
    "pe = {'N_image': 100, 'seed': None, 'N_X': 512, 'N_Y': 512, 'noise': \n",
    "0.1, 'do_mask': True, 'mask_exponent': 3.0, 'do_whitening': True, \n",
    "'white_name_database': 'kodakdb', 'white_n_learning': 0, 'white_N': \n",
    "0.07, 'white_N_0': 0.0, 'white_f_0': 0.4, 'white_alpha': 1.4, \n",
    "'white_steepness': 4.0, 'white_recompute': False, 'base_levels': \n",
    "1.618, 'n_theta': 24, 'B_sf': 0.4, 'B_theta': 0.17453277777777776, \n",
    "'use_cache': True, 'figpath': 'results', 'edgefigpath': \n",
    "'results/edges', 'matpath': 'cache_dir', 'edgematpath': \n",
    "'cache_dir/edges', 'datapath': 'database/', 'ext': '.pdf', 'figsize': \n",
    "14.0, 'formats': ['pdf', 'png', 'jpg'], 'dpi': 450, 'verbose': 0}\n",
    "\n",
    "\n",
    "lg = LogGabor(pe=pe)\n",
    "\n",
    "i_eccentricity = 15\n",
    "N_eccentricity = 20\n",
    "ecc = ecc_max * (1 / rho) ** (N_eccentricity - i_eccentricity)\n",
    "\n",
    "i_theta = 5\n",
    "N_theta = 6\n",
    "theta_ref = i_theta * np.pi / N_theta\n",
    "sf_0 = 0.5 * sf_0_r / ecc\n",
    "sf_0 = np.min((sf_0, sf_0_max))\n",
    "\n",
    "N = 200\n",
    "dimension_filtre = int( N /2 * ecc)\n",
    "#if dimension_filtre % 2 == 1:\n",
    "#    dimension_filtre += 1\n",
    "#dimension_filtre = 100\n",
    "\n",
    "\n",
    "# print(\"dimension_filtre\", dimension_filtre)\n",
    "lg.set_size((dimension_filtre, dimension_filtre))\n",
    "\n",
    "i_phase = 1\n",
    "phase = i_phase * np.pi / 2\n",
    "\n",
    "x = dimension_filtre // 2\n",
    "\n",
    "y = dimension_filtre // 2\n",
    "\n",
    "params = {'sf_0': sf_0,\n",
    "           'B_sf': B_sf,\n",
    "           'theta': theta_ref,\n",
    "           'B_theta': B_theta}\n",
    "\n",
    "filter = lg.normalize(lg.invert(lg.loggabor(x, y, **params) * \n",
    "np.exp(-1j * phase)))"
   ]
  },
  {
   "cell_type": "code",
   "execution_count": null,
   "metadata": {},
   "outputs": [],
   "source": [
    "plt.imshow(filter)"
   ]
  },
  {
   "cell_type": "code",
   "execution_count": null,
   "metadata": {},
   "outputs": [],
   "source": [
    "plt.plot(ecc_max * (1 / rho) ** (N_eccentricity - np.arange(N_eccentricity)))\n",
    "plt.plot(ecc_max * (1 / 1.21) ** (N_eccentricity - np.arange(N_eccentricity)))\n",
    "plt.plot(ecc_max * (1 / 1.11) ** (N_eccentricity - np.arange(N_eccentricity)))"
   ]
  },
  {
   "cell_type": "code",
   "execution_count": null,
   "metadata": {},
   "outputs": [],
   "source": [
    "plt.plot(ecc_max * (1 / rho) ** (N_eccentricity - np.arange(10)))"
   ]
  },
  {
   "cell_type": "code",
   "execution_count": null,
   "metadata": {},
   "outputs": [],
   "source": []
  }
 ],
 "metadata": {
  "kernelspec": {
   "display_name": "Python 3",
   "language": "python",
   "name": "python3"
  },
  "language_info": {
   "codemirror_mode": {
    "name": "ipython",
    "version": 3
   },
   "file_extension": ".py",
   "mimetype": "text/x-python",
   "name": "python",
   "nbconvert_exporter": "python",
   "pygments_lexer": "ipython3",
   "version": "3.7.3"
  }
 },
 "nbformat": 4,
 "nbformat_minor": 2
}
