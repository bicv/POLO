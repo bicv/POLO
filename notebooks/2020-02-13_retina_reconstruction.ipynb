{
 "cells": [
  {
   "cell_type": "code",
   "execution_count": 1,
   "metadata": {},
   "outputs": [
    {
     "name": "stdout",
     "output_type": "stream",
     "text": [
      "2020-02-13T16:06:38+01:00\n",
      "\n",
      "CPython 3.7.6\n",
      "IPython 7.12.0\n",
      "\n",
      "numpy 1.18.1\n",
      "torch 1.4.0\n",
      "POLO not installed\n",
      "\n",
      "compiler   : Clang 11.0.0 (clang-1100.0.33.16)\n",
      "system     : Darwin\n",
      "release    : 19.3.0\n",
      "machine    : x86_64\n",
      "processor  : i386\n",
      "CPU cores  : 36\n",
      "interpreter: 64bit\n",
      "host name  : fortytwo\n",
      "Git hash   : a3b51e82eec9824620662df8f30f3529f076c6e1\n",
      "Git repo   : https://github.com/bicv/POLO/\n",
      "Git branch : master\n"
     ]
    }
   ],
   "source": [
    "%load_ext watermark\n",
    "%watermark -i -h -m -v -p numpy,torch,POLO  -r -g -b"
   ]
  },
  {
   "cell_type": "code",
   "execution_count": 2,
   "metadata": {},
   "outputs": [],
   "source": [
    "import numpy as np\n",
    "import matplotlib.pyplot as plt\n",
    "%matplotlib inline"
   ]
  },
  {
   "cell_type": "code",
   "execution_count": 3,
   "metadata": {},
   "outputs": [],
   "source": [
    "width = 32\n",
    "base_levels = 1.61803\n",
    "base_levels = 2\n",
    "n_sublevel = 2\n",
    "n_azimuth = 18\n",
    "n_theta = 8\n",
    "n_phase = 2\n",
    "\n",
    "N_batch = 1024\n",
    "minibatch = 64\n",
    "#N_batch = 128\n",
    "#N_batch = 16\n",
    "pattern = 'i05june05_static_street_boston_*.jpeg'"
   ]
  },
  {
   "cell_type": "code",
   "execution_count": 4,
   "metadata": {},
   "outputs": [],
   "source": [
    "lr = .03\n",
    "n_epochs = 100\n",
    "seed = 42\n",
    "momentum = 0.9\n",
    "weight_decay = 0.001"
   ]
  },
  {
   "cell_type": "markdown",
   "metadata": {},
   "source": [
    "# loading an image"
   ]
  },
  {
   "cell_type": "code",
   "execution_count": 5,
   "metadata": {},
   "outputs": [
    {
     "name": "stdout",
     "output_type": "stream",
     "text": [
      "800px-Fox_Hunt_1893_Winslow_Homer.jpg\n",
      "homer.jpg\n",
      "\u001b[31mi05june05_static_street_boston_p1010764.jpeg\u001b[m\u001b[m*\n",
      "i05june05_static_street_boston_p1010764.npy\n",
      "\u001b[31mi05june05_static_street_boston_p1010785.jpeg\u001b[m\u001b[m*\n",
      "\u001b[31mi05june05_static_street_boston_p1010800.jpeg\u001b[m\u001b[m*\n",
      "\u001b[31mi05june05_static_street_boston_p1010806.jpeg\u001b[m\u001b[m*\n",
      "\u001b[31mi05june05_static_street_boston_p1010808.jpeg\u001b[m\u001b[m*\n"
     ]
    }
   ],
   "source": [
    "%ls ../data/"
   ]
  },
  {
   "cell_type": "code",
   "execution_count": 6,
   "metadata": {},
   "outputs": [],
   "source": [
    "from SLIP import imread"
   ]
  },
  {
   "cell_type": "code",
   "execution_count": 7,
   "metadata": {},
   "outputs": [],
   "source": [
    "import os"
   ]
  },
  {
   "cell_type": "code",
   "execution_count": 8,
   "metadata": {},
   "outputs": [],
   "source": [
    "import torch\n",
    "torch.set_default_tensor_type('torch.DoubleTensor')"
   ]
  },
  {
   "cell_type": "markdown",
   "metadata": {},
   "source": [
    "# using torch to build up a Gaussian pyramid\n",
    "\n",
    "https://pytorch.org/docs/master/nn.functional.html#torch.nn.functional.interpolate"
   ]
  },
  {
   "cell_type": "code",
   "execution_count": 9,
   "metadata": {},
   "outputs": [
    {
     "name": "stdout",
     "output_type": "stream",
     "text": [
      "Tensor shape= torch.Size([1, 1, 192, 256])\n"
     ]
    }
   ],
   "source": [
    "img_orig = imread('../data/i05june05_static_street_boston_p1010764.jpeg')\n",
    "ds = 4\n",
    "if ds>1: img_orig = img_orig[::ds, ::ds]\n",
    "img_orig = np.roll(img_orig, -162//ds, axis=1) # sliding gaze to the right by moving image to the left\n",
    "img_orig = np.roll(img_orig, 32//ds, axis=0) # sliding gaze to the top by moving image to the bottom\n",
    "from SLIP import Image\n",
    "pe = {'N_X': img_orig.shape[0], 'N_Y': img_orig.shape[1], 'do_mask': True, 'do_whitening': True,\n",
    "       'white_n_learning': 0, 'white_N': 0.07, 'white_N_0': 0.0, 'white_f_0': 0.4, 'white_alpha': 1.4,\n",
    "      'white_steepness': 4.0}\n",
    "\n",
    "im = Image(pe)\n",
    "img_orig = im.whitening(img_orig) * im.mask\n",
    "img_tens = torch.Tensor(img_orig[None, None, ...])\n",
    "print('Tensor shape=', img_tens.shape)"
   ]
  },
  {
   "cell_type": "code",
   "execution_count": 10,
   "metadata": {},
   "outputs": [],
   "source": [
    "from torch.nn.functional import interpolate\n",
    "from torch.nn.functional import max_pool2d"
   ]
  },
  {
   "cell_type": "code",
   "execution_count": 11,
   "metadata": {},
   "outputs": [
    {
     "ename": "NameError",
     "evalue": "name 'mode' is not defined",
     "output_type": "error",
     "traceback": [
      "\u001b[0;31m---------------------------------------------------------------------------\u001b[0m",
      "\u001b[0;31mNameError\u001b[0m                                 Traceback (most recent call last)",
      "\u001b[0;32m<ipython-input-11-fd36ac78ad1b>\u001b[0m in \u001b[0;36m<module>\u001b[0;34m\u001b[0m\n\u001b[0;32m----> 1\u001b[0;31m \u001b[0mget_ipython\u001b[0m\u001b[0;34m(\u001b[0m\u001b[0;34m)\u001b[0m\u001b[0;34m.\u001b[0m\u001b[0mrun_cell_magic\u001b[0m\u001b[0;34m(\u001b[0m\u001b[0;34m'timeit'\u001b[0m\u001b[0;34m,\u001b[0m \u001b[0;34m''\u001b[0m\u001b[0;34m,\u001b[0m \u001b[0;34m'interpolate(img_tens, scale_factor=1/base_levels, mode=mode)\\nimg_down = max_pool2d(img_down, 2)\\n'\u001b[0m\u001b[0;34m)\u001b[0m\u001b[0;34m\u001b[0m\u001b[0;34m\u001b[0m\u001b[0m\n\u001b[0m",
      "\u001b[0;32m/usr/local/lib/python3.7/site-packages/IPython/core/interactiveshell.py\u001b[0m in \u001b[0;36mrun_cell_magic\u001b[0;34m(self, magic_name, line, cell)\u001b[0m\n\u001b[1;32m   2360\u001b[0m             \u001b[0;32mwith\u001b[0m \u001b[0mself\u001b[0m\u001b[0;34m.\u001b[0m\u001b[0mbuiltin_trap\u001b[0m\u001b[0;34m:\u001b[0m\u001b[0;34m\u001b[0m\u001b[0;34m\u001b[0m\u001b[0m\n\u001b[1;32m   2361\u001b[0m                 \u001b[0margs\u001b[0m \u001b[0;34m=\u001b[0m \u001b[0;34m(\u001b[0m\u001b[0mmagic_arg_s\u001b[0m\u001b[0;34m,\u001b[0m \u001b[0mcell\u001b[0m\u001b[0;34m)\u001b[0m\u001b[0;34m\u001b[0m\u001b[0;34m\u001b[0m\u001b[0m\n\u001b[0;32m-> 2362\u001b[0;31m                 \u001b[0mresult\u001b[0m \u001b[0;34m=\u001b[0m \u001b[0mfn\u001b[0m\u001b[0;34m(\u001b[0m\u001b[0;34m*\u001b[0m\u001b[0margs\u001b[0m\u001b[0;34m,\u001b[0m \u001b[0;34m**\u001b[0m\u001b[0mkwargs\u001b[0m\u001b[0;34m)\u001b[0m\u001b[0;34m\u001b[0m\u001b[0;34m\u001b[0m\u001b[0m\n\u001b[0m\u001b[1;32m   2363\u001b[0m             \u001b[0;32mreturn\u001b[0m \u001b[0mresult\u001b[0m\u001b[0;34m\u001b[0m\u001b[0;34m\u001b[0m\u001b[0m\n\u001b[1;32m   2364\u001b[0m \u001b[0;34m\u001b[0m\u001b[0m\n",
      "\u001b[0;32m</usr/local/lib/python3.7/site-packages/decorator.py:decorator-gen-60>\u001b[0m in \u001b[0;36mtimeit\u001b[0;34m(self, line, cell, local_ns)\u001b[0m\n",
      "\u001b[0;32m/usr/local/lib/python3.7/site-packages/IPython/core/magic.py\u001b[0m in \u001b[0;36m<lambda>\u001b[0;34m(f, *a, **k)\u001b[0m\n\u001b[1;32m    185\u001b[0m     \u001b[0;31m# but it's overkill for just that one bit of state.\u001b[0m\u001b[0;34m\u001b[0m\u001b[0;34m\u001b[0m\u001b[0;34m\u001b[0m\u001b[0m\n\u001b[1;32m    186\u001b[0m     \u001b[0;32mdef\u001b[0m \u001b[0mmagic_deco\u001b[0m\u001b[0;34m(\u001b[0m\u001b[0marg\u001b[0m\u001b[0;34m)\u001b[0m\u001b[0;34m:\u001b[0m\u001b[0;34m\u001b[0m\u001b[0;34m\u001b[0m\u001b[0m\n\u001b[0;32m--> 187\u001b[0;31m         \u001b[0mcall\u001b[0m \u001b[0;34m=\u001b[0m \u001b[0;32mlambda\u001b[0m \u001b[0mf\u001b[0m\u001b[0;34m,\u001b[0m \u001b[0;34m*\u001b[0m\u001b[0ma\u001b[0m\u001b[0;34m,\u001b[0m \u001b[0;34m**\u001b[0m\u001b[0mk\u001b[0m\u001b[0;34m:\u001b[0m \u001b[0mf\u001b[0m\u001b[0;34m(\u001b[0m\u001b[0;34m*\u001b[0m\u001b[0ma\u001b[0m\u001b[0;34m,\u001b[0m \u001b[0;34m**\u001b[0m\u001b[0mk\u001b[0m\u001b[0;34m)\u001b[0m\u001b[0;34m\u001b[0m\u001b[0;34m\u001b[0m\u001b[0m\n\u001b[0m\u001b[1;32m    188\u001b[0m \u001b[0;34m\u001b[0m\u001b[0m\n\u001b[1;32m    189\u001b[0m         \u001b[0;32mif\u001b[0m \u001b[0mcallable\u001b[0m\u001b[0;34m(\u001b[0m\u001b[0marg\u001b[0m\u001b[0;34m)\u001b[0m\u001b[0;34m:\u001b[0m\u001b[0;34m\u001b[0m\u001b[0;34m\u001b[0m\u001b[0m\n",
      "\u001b[0;32m/usr/local/lib/python3.7/site-packages/IPython/core/magics/execution.py\u001b[0m in \u001b[0;36mtimeit\u001b[0;34m(self, line, cell, local_ns)\u001b[0m\n\u001b[1;32m   1158\u001b[0m             \u001b[0;32mfor\u001b[0m \u001b[0mindex\u001b[0m \u001b[0;32min\u001b[0m \u001b[0mrange\u001b[0m\u001b[0;34m(\u001b[0m\u001b[0;36m0\u001b[0m\u001b[0;34m,\u001b[0m \u001b[0;36m10\u001b[0m\u001b[0;34m)\u001b[0m\u001b[0;34m:\u001b[0m\u001b[0;34m\u001b[0m\u001b[0;34m\u001b[0m\u001b[0m\n\u001b[1;32m   1159\u001b[0m                 \u001b[0mnumber\u001b[0m \u001b[0;34m=\u001b[0m \u001b[0;36m10\u001b[0m \u001b[0;34m**\u001b[0m \u001b[0mindex\u001b[0m\u001b[0;34m\u001b[0m\u001b[0;34m\u001b[0m\u001b[0m\n\u001b[0;32m-> 1160\u001b[0;31m                 \u001b[0mtime_number\u001b[0m \u001b[0;34m=\u001b[0m \u001b[0mtimer\u001b[0m\u001b[0;34m.\u001b[0m\u001b[0mtimeit\u001b[0m\u001b[0;34m(\u001b[0m\u001b[0mnumber\u001b[0m\u001b[0;34m)\u001b[0m\u001b[0;34m\u001b[0m\u001b[0;34m\u001b[0m\u001b[0m\n\u001b[0m\u001b[1;32m   1161\u001b[0m                 \u001b[0;32mif\u001b[0m \u001b[0mtime_number\u001b[0m \u001b[0;34m>=\u001b[0m \u001b[0;36m0.2\u001b[0m\u001b[0;34m:\u001b[0m\u001b[0;34m\u001b[0m\u001b[0;34m\u001b[0m\u001b[0m\n\u001b[1;32m   1162\u001b[0m                     \u001b[0;32mbreak\u001b[0m\u001b[0;34m\u001b[0m\u001b[0;34m\u001b[0m\u001b[0m\n",
      "\u001b[0;32m/usr/local/lib/python3.7/site-packages/IPython/core/magics/execution.py\u001b[0m in \u001b[0;36mtimeit\u001b[0;34m(self, number)\u001b[0m\n\u001b[1;32m    167\u001b[0m         \u001b[0mgc\u001b[0m\u001b[0;34m.\u001b[0m\u001b[0mdisable\u001b[0m\u001b[0;34m(\u001b[0m\u001b[0;34m)\u001b[0m\u001b[0;34m\u001b[0m\u001b[0;34m\u001b[0m\u001b[0m\n\u001b[1;32m    168\u001b[0m         \u001b[0;32mtry\u001b[0m\u001b[0;34m:\u001b[0m\u001b[0;34m\u001b[0m\u001b[0;34m\u001b[0m\u001b[0m\n\u001b[0;32m--> 169\u001b[0;31m             \u001b[0mtiming\u001b[0m \u001b[0;34m=\u001b[0m \u001b[0mself\u001b[0m\u001b[0;34m.\u001b[0m\u001b[0minner\u001b[0m\u001b[0;34m(\u001b[0m\u001b[0mit\u001b[0m\u001b[0;34m,\u001b[0m \u001b[0mself\u001b[0m\u001b[0;34m.\u001b[0m\u001b[0mtimer\u001b[0m\u001b[0;34m)\u001b[0m\u001b[0;34m\u001b[0m\u001b[0;34m\u001b[0m\u001b[0m\n\u001b[0m\u001b[1;32m    170\u001b[0m         \u001b[0;32mfinally\u001b[0m\u001b[0;34m:\u001b[0m\u001b[0;34m\u001b[0m\u001b[0;34m\u001b[0m\u001b[0m\n\u001b[1;32m    171\u001b[0m             \u001b[0;32mif\u001b[0m \u001b[0mgcold\u001b[0m\u001b[0;34m:\u001b[0m\u001b[0;34m\u001b[0m\u001b[0;34m\u001b[0m\u001b[0m\n",
      "\u001b[0;32m<magic-timeit>\u001b[0m in \u001b[0;36minner\u001b[0;34m(_it, _timer)\u001b[0m\n",
      "\u001b[0;31mNameError\u001b[0m: name 'mode' is not defined"
     ]
    }
   ],
   "source": [
    "%%timeit\n",
    "mode='bilinear'\n",
    "interpolate(img_tens, scale_factor=1/base_levels, mode=mode)\n",
    "img_down = max_pool2d(img_down, 2)"
   ]
  },
  {
   "cell_type": "code",
   "execution_count": null,
   "metadata": {},
   "outputs": [],
   "source": [
    "%%timeit\n",
    "max_pool2d(img_tens, 2)"
   ]
  },
  {
   "cell_type": "code",
   "execution_count": 10,
   "metadata": {},
   "outputs": [
    {
     "name": "stdout",
     "output_type": "stream",
     "text": [
      "Tensor shape= torch.Size([1, 1, 192, 256]) , n_levels= 1\n",
      "Tensor shape= torch.Size([1, 1, 96, 128]) , n_levels= 2\n",
      "Tensor shape= torch.Size([1, 1, 48, 64]) , n_levels= 3\n",
      "Top tensor shape= torch.Size([1, 1, 24, 32]) , Final n_levels= 4\n"
     ]
    }
   ],
   "source": [
    "#from torch.nn.functional import interpolate\n",
    "from torch.nn.functional import max_pool2d\n",
    "img_down = img_tens\n",
    "n_levels = 0\n",
    "while max(img_down.shape[-2:]) > width :\n",
    "    n_levels += 1\n",
    "    print('Tensor shape=', img_down.shape, ', n_levels=', n_levels)\n",
    "    #img_down = interpolate(img_down, scale_factor=1/base_levels, mode=mode)\n",
    "    img_down = max_pool2d(img_down, 2)\n",
    "\n",
    "n_levels += 1\n",
    "print('Top tensor shape=', img_down.shape, ', Final n_levels=', n_levels)"
   ]
  },
  {
   "cell_type": "code",
   "execution_count": 11,
   "metadata": {},
   "outputs": [],
   "source": [
    "def cropped_pyramid(img_tens, n_levels=n_levels, width=width, base_levels=base_levels, verbose=False):\n",
    "    N_batch = img_tens.shape[0]\n",
    "    img_crop = torch.zeros((N_batch, n_levels, width, width))\n",
    "\n",
    "    img_down = img_tens\n",
    "    for i_level in range(n_levels-1):\n",
    "        if verbose: print('Tensor shape=', img_down.shape, ', shape=', img_tens.shape)\n",
    "        h_res, w_res = img_down.shape[-2:]\n",
    "\n",
    "        img_crop[:, i_level, :, :] = img_down[:, 0, \n",
    "                            (h_res//2-width//2):(h_res//2+width//2), \n",
    "                            (w_res//2-width//2):(w_res//2+width//2)]\n",
    "        img_down = interpolate(img_down, scale_factor=1/base_levels, mode=mode)\n",
    "\n",
    "    h_res, w_res = img_down.shape[-2:]\n",
    "    img_crop[:, n_levels-1, \n",
    "             (width//2-h_res//2):(width//2+h_res//2), \n",
    "             (width//2-w_res//2):(width//2+w_res//2)] = img_down[:, 0, :, :]\n",
    "    return img_crop"
   ]
  },
  {
   "cell_type": "markdown",
   "metadata": {},
   "source": [
    "Applying on the central crop of $32\\times32$:"
   ]
  },
  {
   "cell_type": "code",
   "execution_count": 12,
   "metadata": {},
   "outputs": [
    {
     "name": "stdout",
     "output_type": "stream",
     "text": [
      "Tensor shape= torch.Size([1, 4, 32, 32])\n"
     ]
    },
    {
     "data": {
      "image/png": "[encoded data removed]",
      "text/plain": [
       "<Figure size 1440x1440 with 4 Axes>"
      ]
     },
     "metadata": {
      "needs_background": "light"
     },
     "output_type": "display_data"
    }
   ],
   "source": [
    "img_tens = torch.Tensor(img_orig[None, None, ...])\n",
    "img_crop = cropped_pyramid(img_tens)\n",
    "\n",
    "fig, axs = plt.subplots(1, n_levels, figsize=(20,20))\n",
    "for i_level, ax in enumerate(axs):\n",
    "    ax.imshow(img_crop.numpy()[0, i_level, ...], cmap='gray')\n",
    "    ax.plot([width/2], [width/2], 'r+', ms=32);\n",
    "print('Tensor shape=', img_crop.shape)"
   ]
  },
  {
   "cell_type": "markdown",
   "metadata": {},
   "source": [
    "## creating a set of filters"
   ]
  },
  {
   "cell_type": "code",
   "execution_count": 13,
   "metadata": {},
   "outputs": [
    {
     "name": "stdout",
     "output_type": "stream",
     "text": [
      "lg shape= 32 32\n"
     ]
    }
   ],
   "source": [
    "from LogGabor import LogGabor\n",
    "pe = {'N_X': width, 'N_Y': width, 'do_mask': False, 'do_whitening': True,\n",
    "      'white_name_database': 'kodakdb', 'white_n_learning': 0, 'white_N':\n",
    "          0.07, 'white_N_0': 0.0, 'white_f_0': 0.4, 'white_alpha': 1.4,\n",
    "      'white_steepness': 4.0, 'white_recompute': False, 'base_levels':\n",
    "          base_levels, 'n_theta': 24, 'B_sf': 0.6, 'B_theta': np.pi/12 ,\n",
    "      'use_cache': True, 'figpath': 'results', 'edgefigpath':\n",
    "          'results/edges', 'matpath': 'cache_dir', 'edgematpath':\n",
    "          'cache_dir/edges', 'datapath': 'database/', 'ext': '.pdf', 'figsize':\n",
    "          14.0, 'formats': ['pdf', 'png', 'jpg'], 'dpi': 450, 'verbose': 0}\n",
    "lg = LogGabor(pe)\n",
    "print('lg shape=', lg.pe.N_X, lg.pe.N_Y)"
   ]
  },
  {
   "cell_type": "code",
   "execution_count": 14,
   "metadata": {},
   "outputs": [
    {
     "name": "stdout",
     "output_type": "stream",
     "text": [
      "K shape= (32, 32)\n",
      "K min max= -0.4102999708906189 1.0\n"
     ]
    }
   ],
   "source": [
    "def local_filter(azimuth, theta, phase, sf_0=.25, radius=width/4):\n",
    "\n",
    "    x, y = lg.pe.N_X//2, lg.pe.N_Y//2 # center\n",
    "    x += radius * np.cos(azimuth)\n",
    "    y += radius * np.sin(azimuth)\n",
    "    \n",
    "    return lg.normalize(lg.invert(\n",
    "        lg.loggabor(x, y, sf_0=sf_0, B_sf=lg.pe.B_sf, theta=theta, B_theta=lg.pe.B_theta) * np.exp(-1j * phase)))\n",
    "\n",
    "K = local_filter(azimuth=0, theta=0, phase=0, radius=width/4)\n",
    "print('K shape=', K.shape)\n",
    "print('K min max=', K.min(), K.max())"
   ]
  },
  {
   "cell_type": "code",
   "execution_count": 15,
   "metadata": {},
   "outputs": [
    {
     "name": "stdout",
     "output_type": "stream",
     "text": [
      "i_sublevel, sf_0, radius 0 0.25 8.0\n",
      "i_sublevel, sf_0, radius 1 0.3535533905932738 5.65685424949238\n",
      "K shape= torch.Size([32, 32, 2, 18, 8, 2])\n",
      "K min max= tensor(-1.) tensor(1.)\n"
     ]
    }
   ],
   "source": [
    "\n",
    "K = np.zeros((width, width, n_sublevel, n_azimuth, n_theta, n_phase))\n",
    "for i_sublevel in range(n_sublevel):\n",
    "    sf_0 = .25*(np.sqrt(2)**i_sublevel)\n",
    "    radius = width/4/(np.sqrt(2)**i_sublevel)\n",
    "    print('i_sublevel, sf_0, radius', i_sublevel, sf_0, radius)\n",
    "    for i_azimuth in range(n_azimuth):\n",
    "        for i_theta in range(n_theta):\n",
    "            for i_phase in range(n_phase):\n",
    "                K[..., i_sublevel, i_azimuth, i_theta, i_phase] = local_filter(azimuth=(i_azimuth+i_sublevel/2)*2*np.pi/n_azimuth, \n",
    "                                                                               theta=i_theta*np.pi/n_theta, \n",
    "                                                                               phase=i_phase*np.pi/n_phase, sf_0=sf_0, radius=radius)\n",
    "K = torch.Tensor(K)\n",
    "print('K shape=', K.shape)\n",
    "print('K min max=', K.min(), K.max())"
   ]
  },
  {
   "cell_type": "markdown",
   "metadata": {},
   "source": [
    "# defining a dataloader\n"
   ]
  },
  {
   "cell_type": "code",
   "execution_count": 16,
   "metadata": {},
   "outputs": [
    {
     "name": "stdout",
     "output_type": "stream",
     "text": [
      "torch.Size([1024, 1, 192, 256])\n",
      "torch.Size([1024, 4, 32, 32])\n"
     ]
    }
   ],
   "source": [
    "def get_dataloader(N_batch, pattern=pattern, \n",
    "                   ds=4, saccade_radius=.4, verbose=False):\n",
    "    from glob import glob\n",
    "    imgs = []\n",
    "    for fname in glob(os.path.join('../data', pattern)):\n",
    "        img_orig = imread(fname)\n",
    "        if ds>1: img_orig = img_orig[::ds, ::ds]\n",
    "        from SLIP import Image\n",
    "        pe = {'N_X': img_orig.shape[0], 'N_Y': img_orig.shape[1], 'do_mask': True, 'do_whitening': True,\n",
    "               'white_n_learning': 0, 'white_N': 0.07, 'white_N_0': 0.0, 'white_f_0': 0.4, 'white_alpha': 1.4,\n",
    "              'white_steepness': 4.0}\n",
    "        im = Image(pe)\n",
    "        img_orig = im.whitening(img_orig) * im.mask\n",
    "        imgs.append(img_orig)\n",
    "                          \n",
    "    N_imgs = len(imgs)\n",
    "    if verbose: print('N_imgs ', N_imgs )\n",
    "    N_X, N_Y = img_orig.shape\n",
    "    target = torch.zeros((N_batch, 1, N_X, N_Y))\n",
    "    for i in range(N_batch):\n",
    "        # generate random saccades\n",
    "        target_ = imgs[int(N_imgs*np.random.rand())].copy()\n",
    "        sacc_x, sacc_y = np.int(saccade_radius*N_X*np.random.randn()), np.int(saccade_radius*N_Y*np.random.randn())\n",
    "        if verbose: print('sacc_x, sacc_y ', sacc_x, sacc_y )\n",
    "        target_ = np.roll(target_, sacc_y, axis=1)\n",
    "        target_ = np.roll(target_, sacc_x, axis=0) \n",
    "        target_ = im.whitening(target_) * im.mask\n",
    "        target[i, :, :, :] = torch.from_numpy(target_[None, :, :])\n",
    "\n",
    "    print(target.shape)\n",
    "    img_crop = cropped_pyramid(target, verbose=verbose)\n",
    "    print(img_crop.shape)\n",
    "    x = torch.tensordot(img_crop, K,  dims=2)\n",
    "\n",
    "    from torch.utils.data import TensorDataset, DataLoader\n",
    "    dataloader = DataLoader(TensorDataset(target, x), batch_size=minibatch, shuffle=False, drop_last=False)\n",
    "    return dataloader\n",
    "\n",
    "dataloader = get_dataloader(N_batch, verbose=False)"
   ]
  },
  {
   "cell_type": "code",
   "execution_count": 17,
   "metadata": {},
   "outputs": [
    {
     "data": {
      "text/plain": [
       "\u001b[0;31mInit signature:\u001b[0m\n",
       "\u001b[0mDataLoader\u001b[0m\u001b[0;34m(\u001b[0m\u001b[0;34m\u001b[0m\n",
       "\u001b[0;34m\u001b[0m    \u001b[0mdataset\u001b[0m\u001b[0;34m,\u001b[0m\u001b[0;34m\u001b[0m\n",
       "\u001b[0;34m\u001b[0m    \u001b[0mbatch_size\u001b[0m\u001b[0;34m=\u001b[0m\u001b[0;36m1\u001b[0m\u001b[0;34m,\u001b[0m\u001b[0;34m\u001b[0m\n",
       "\u001b[0;34m\u001b[0m    \u001b[0mshuffle\u001b[0m\u001b[0;34m=\u001b[0m\u001b[0;32mFalse\u001b[0m\u001b[0;34m,\u001b[0m\u001b[0;34m\u001b[0m\n",
       "\u001b[0;34m\u001b[0m    \u001b[0msampler\u001b[0m\u001b[0;34m=\u001b[0m\u001b[0;32mNone\u001b[0m\u001b[0;34m,\u001b[0m\u001b[0;34m\u001b[0m\n",
       "\u001b[0;34m\u001b[0m    \u001b[0mbatch_sampler\u001b[0m\u001b[0;34m=\u001b[0m\u001b[0;32mNone\u001b[0m\u001b[0;34m,\u001b[0m\u001b[0;34m\u001b[0m\n",
       "\u001b[0;34m\u001b[0m    \u001b[0mnum_workers\u001b[0m\u001b[0;34m=\u001b[0m\u001b[0;36m0\u001b[0m\u001b[0;34m,\u001b[0m\u001b[0;34m\u001b[0m\n",
       "\u001b[0;34m\u001b[0m    \u001b[0mcollate_fn\u001b[0m\u001b[0;34m=\u001b[0m\u001b[0;32mNone\u001b[0m\u001b[0;34m,\u001b[0m\u001b[0;34m\u001b[0m\n",
       "\u001b[0;34m\u001b[0m    \u001b[0mpin_memory\u001b[0m\u001b[0;34m=\u001b[0m\u001b[0;32mFalse\u001b[0m\u001b[0;34m,\u001b[0m\u001b[0;34m\u001b[0m\n",
       "\u001b[0;34m\u001b[0m    \u001b[0mdrop_last\u001b[0m\u001b[0;34m=\u001b[0m\u001b[0;32mFalse\u001b[0m\u001b[0;34m,\u001b[0m\u001b[0;34m\u001b[0m\n",
       "\u001b[0;34m\u001b[0m    \u001b[0mtimeout\u001b[0m\u001b[0;34m=\u001b[0m\u001b[0;36m0\u001b[0m\u001b[0;34m,\u001b[0m\u001b[0;34m\u001b[0m\n",
       "\u001b[0;34m\u001b[0m    \u001b[0mworker_init_fn\u001b[0m\u001b[0;34m=\u001b[0m\u001b[0;32mNone\u001b[0m\u001b[0;34m,\u001b[0m\u001b[0;34m\u001b[0m\n",
       "\u001b[0;34m\u001b[0m    \u001b[0mmultiprocessing_context\u001b[0m\u001b[0;34m=\u001b[0m\u001b[0;32mNone\u001b[0m\u001b[0;34m,\u001b[0m\u001b[0;34m\u001b[0m\n",
       "\u001b[0;34m\u001b[0m\u001b[0;34m)\u001b[0m\u001b[0;34m\u001b[0m\u001b[0;34m\u001b[0m\u001b[0m\n",
       "\u001b[0;31mDocstring:\u001b[0m     \n",
       "Data loader. Combines a dataset and a sampler, and provides an iterable over\n",
       "the given dataset.\n",
       "\n",
       "The :class:`~torch.utils.data.DataLoader` supports both map-style and\n",
       "iterable-style datasets with single- or multi-process loading, customizing\n",
       "loading order and optional automatic batching (collation) and memory pinning.\n",
       "\n",
       "See :py:mod:`torch.utils.data` documentation page for more details.\n",
       "\n",
       "Arguments:\n",
       "    dataset (Dataset): dataset from which to load the data.\n",
       "    batch_size (int, optional): how many samples per batch to load\n",
       "        (default: ``1``).\n",
       "    shuffle (bool, optional): set to ``True`` to have the data reshuffled\n",
       "        at every epoch (default: ``False``).\n",
       "    sampler (Sampler, optional): defines the strategy to draw samples from\n",
       "        the dataset. If specified, :attr:`shuffle` must be ``False``.\n",
       "    batch_sampler (Sampler, optional): like :attr:`sampler`, but returns a batch of\n",
       "        indices at a time. Mutually exclusive with :attr:`batch_size`,\n",
       "        :attr:`shuffle`, :attr:`sampler`, and :attr:`drop_last`.\n",
       "    num_workers (int, optional): how many subprocesses to use for data\n",
       "        loading. ``0`` means that the data will be loaded in the main process.\n",
       "        (default: ``0``)\n",
       "    collate_fn (callable, optional): merges a list of samples to form a\n",
       "        mini-batch of Tensor(s).  Used when using batched loading from a\n",
       "        map-style dataset.\n",
       "    pin_memory (bool, optional): If ``True``, the data loader will copy Tensors\n",
       "        into CUDA pinned memory before returning them.  If your data elements\n",
       "        are a custom type, or your :attr:`collate_fn` returns a batch that is a custom type,\n",
       "        see the example below.\n",
       "    drop_last (bool, optional): set to ``True`` to drop the last incomplete batch,\n",
       "        if the dataset size is not divisible by the batch size. If ``False`` and\n",
       "        the size of dataset is not divisible by the batch size, then the last batch\n",
       "        will be smaller. (default: ``False``)\n",
       "    timeout (numeric, optional): if positive, the timeout value for collecting a batch\n",
       "        from workers. Should always be non-negative. (default: ``0``)\n",
       "    worker_init_fn (callable, optional): If not ``None``, this will be called on each\n",
       "        worker subprocess with the worker id (an int in ``[0, num_workers - 1]``) as\n",
       "        input, after seeding and before data loading. (default: ``None``)\n",
       "\n",
       "\n",
       ".. warning:: If the ``spawn`` start method is used, :attr:`worker_init_fn`\n",
       "             cannot be an unpicklable object, e.g., a lambda function. See\n",
       "             :ref:`multiprocessing-best-practices` on more details related\n",
       "             to multiprocessing in PyTorch.\n",
       "\n",
       ".. note:: ``len(dataloader)`` heuristic is based on the length of the sampler used.\n",
       "          When :attr:`dataset` is an :class:`~torch.utils.data.IterableDataset`,\n",
       "          ``len(dataset)`` (if implemented) is returned instead, regardless\n",
       "          of multi-process loading configurations, because PyTorch trust\n",
       "          user :attr:`dataset` code in correctly handling multi-process\n",
       "          loading to avoid duplicate data. See `Dataset Types`_ for more\n",
       "          details on these two types of datasets and how\n",
       "          :class:`~torch.utils.data.IterableDataset` interacts with `Multi-process data loading`_.\n",
       "\u001b[0;31mFile:\u001b[0m           /usr/local/lib/python3.7/site-packages/torch/utils/data/dataloader.py\n",
       "\u001b[0;31mType:\u001b[0m           type\n",
       "\u001b[0;31mSubclasses:\u001b[0m     \n"
      ]
     },
     "metadata": {},
     "output_type": "display_data"
    }
   ],
   "source": [
    "from torch.utils.data import TensorDataset, DataLoader\n",
    "DataLoader?"
   ]
  },
  {
   "cell_type": "code",
   "execution_count": 18,
   "metadata": {},
   "outputs": [
    {
     "name": "stdout",
     "output_type": "stream",
     "text": [
      "0 torch.Size([64, 1, 192, 256]) torch.Size([64, 4, 2, 18, 8, 2])\n",
      "1 torch.Size([64, 1, 192, 256]) torch.Size([64, 4, 2, 18, 8, 2])\n",
      "2 torch.Size([64, 1, 192, 256]) torch.Size([64, 4, 2, 18, 8, 2])\n",
      "3 torch.Size([64, 1, 192, 256]) torch.Size([64, 4, 2, 18, 8, 2])\n",
      "4 torch.Size([64, 1, 192, 256]) torch.Size([64, 4, 2, 18, 8, 2])\n",
      "5 torch.Size([64, 1, 192, 256]) torch.Size([64, 4, 2, 18, 8, 2])\n",
      "6 torch.Size([64, 1, 192, 256]) torch.Size([64, 4, 2, 18, 8, 2])\n",
      "7 torch.Size([64, 1, 192, 256]) torch.Size([64, 4, 2, 18, 8, 2])\n",
      "8 torch.Size([64, 1, 192, 256]) torch.Size([64, 4, 2, 18, 8, 2])\n",
      "9 torch.Size([64, 1, 192, 256]) torch.Size([64, 4, 2, 18, 8, 2])\n",
      "10 torch.Size([64, 1, 192, 256]) torch.Size([64, 4, 2, 18, 8, 2])\n",
      "11 torch.Size([64, 1, 192, 256]) torch.Size([64, 4, 2, 18, 8, 2])\n",
      "12 torch.Size([64, 1, 192, 256]) torch.Size([64, 4, 2, 18, 8, 2])\n",
      "13 torch.Size([64, 1, 192, 256]) torch.Size([64, 4, 2, 18, 8, 2])\n",
      "14 torch.Size([64, 1, 192, 256]) torch.Size([64, 4, 2, 18, 8, 2])\n",
      "15 torch.Size([64, 1, 192, 256]) torch.Size([64, 4, 2, 18, 8, 2])\n"
     ]
    }
   ],
   "source": [
    "for batch_idx, (target, x) in enumerate(dataloader):\n",
    "    print(batch_idx, target.shape, x.shape)"
   ]
  },
  {
   "cell_type": "code",
   "execution_count": 19,
   "metadata": {},
   "outputs": [
    {
     "data": {
      "image/png": "[encoded data removed]",
      "text/plain": [
       "<Figure size 1440x1440 with 1 Axes>"
      ]
     },
     "metadata": {
      "needs_background": "light"
     },
     "output_type": "display_data"
    }
   ],
   "source": [
    "N_X, N_Y = target.shape[-2:]\n",
    "fig, ax = plt.subplots(figsize=(20,20))\n",
    "ax.imshow(target[0, 0, :,:].numpy(), cmap='gray')\n",
    "ax.plot([img_orig.shape[1]/2], [img_orig.shape[0]/2], 'r+', ms=32);"
   ]
  },
  {
   "cell_type": "markdown",
   "metadata": {},
   "source": [
    "\n",
    "## learning to reconstruct\n",
    "\n"
   ]
  },
  {
   "cell_type": "code",
   "execution_count": 20,
   "metadata": {},
   "outputs": [
    {
     "data": {
      "text/plain": [
       "4"
      ]
     },
     "execution_count": 20,
     "metadata": {},
     "output_type": "execute_result"
    }
   ],
   "source": [
    "n_levels"
   ]
  },
  {
   "cell_type": "code",
   "execution_count": 21,
   "metadata": {},
   "outputs": [
    {
     "name": "stdout",
     "output_type": "stream",
     "text": [
      "using cpu\n"
     ]
    }
   ],
   "source": [
    "torch.manual_seed(seed)\n",
    "device = torch.device(\"cuda\" if torch.cuda.is_available() else \"cpu\")\n",
    "# device = \"cpu\" # uncomment to force CPU mode\n",
    "print(f'using {device}')"
   ]
  },
  {
   "cell_type": "code",
   "execution_count": 22,
   "metadata": {},
   "outputs": [],
   "source": [
    "class Invert(torch.nn.Module):\n",
    "    def __init__(self, n_in, n_out, verbose=False):\n",
    "        super(Invert, self).__init__()\n",
    "        if verbose: print('n_in, n_out=', n_in, n_out)\n",
    "        self.KT = torch.nn.Linear(n_in, n_out, bias=False)\n",
    "        \n",
    "    def forward(self, x):\n",
    "        return self.KT(x)"
   ]
  },
  {
   "cell_type": "code",
   "execution_count": null,
   "metadata": {},
   "outputs": [
    {
     "name": "stdout",
     "output_type": "stream",
     "text": [
      "n_in, n_out= 2304 49152\n",
      "Linear(in_features=2304, out_features=49152, bias=False)\n",
      "[Epoch 1/100][loss: 278.306140] [Time: 38.547565s]\n",
      "[Epoch 2/100][loss: 411.115605] [Time: 38.252820s]\n",
      "[Epoch 3/100][loss: 634.037609] [Time: 38.025978s]\n",
      "[Epoch 4/100][loss: 816.794580] [Time: 38.203477s]\n",
      "[Epoch 5/100][loss: 865.911459] [Time: 37.905870s]\n",
      "[Epoch 6/100][loss: 788.323670] [Time: 37.820298s]\n",
      "[Epoch 7/100][loss: 674.116984] [Time: 37.570907s]\n",
      "[Epoch 8/100][loss: 587.580550] [Time: 37.794574s]\n",
      "[Epoch 9/100][loss: 533.259077] [Time: 38.048018s]\n",
      "[Epoch 10/100][loss: 497.783453] [Time: 37.940568s]\n",
      "[Epoch 11/100][loss: 471.048748] [Time: 37.874555s]\n",
      "[Epoch 12/100][loss: 448.158159] [Time: 38.549875s]\n",
      "[Epoch 13/100][loss: 430.397129] [Time: 38.236643s]\n",
      "[Epoch 14/100][loss: 418.225949] [Time: 38.284111s]\n",
      "[Epoch 15/100][loss: 410.499272] [Time: 38.110310s]\n",
      "[Epoch 16/100][loss: 405.167465] [Time: 38.098321s]\n",
      "[Epoch 17/100][loss: 401.318503] [Time: 38.230857s]\n",
      "[Epoch 18/100][loss: 399.758047] [Time: 38.169700s]\n",
      "[Epoch 19/100][loss: 401.561441] [Time: 38.335043s]\n",
      "[Epoch 20/100][loss: 407.319145] [Time: 38.061664s]\n",
      "[Epoch 21/100][loss: 416.698336] [Time: 38.777475s]\n",
      "[Epoch 22/100][loss: 427.501789] [Time: 37.855146s]\n",
      "[Epoch 23/100][loss: 436.466168] [Time: 37.526239s]\n",
      "[Epoch 24/100][loss: 438.802855] [Time: 37.830618s]\n",
      "[Epoch 25/100][loss: 431.794934] [Time: 37.841815s]\n",
      "[Epoch 26/100][loss: 415.074838] [Time: 37.757182s]\n",
      "[Epoch 27/100][loss: 392.267506] [Time: 37.874338s]\n",
      "[Epoch 28/100][loss: 367.374542] [Time: 38.040363s]\n",
      "[Epoch 29/100][loss: 344.043300] [Time: 37.986906s]\n",
      "[Epoch 30/100][loss: 323.572396] [Time: 37.899864s]\n",
      "[Epoch 31/100][loss: 306.589363] [Time: 37.821776s]\n",
      "[Epoch 32/100][loss: 292.705667] [Time: 38.201504s]\n",
      "[Epoch 33/100][loss: 281.579014] [Time: 38.456976s]\n",
      "[Epoch 34/100][loss: 272.403469] [Time: 39.129365s]\n",
      "[Epoch 35/100][loss: 264.582282] [Time: 39.002050s]\n",
      "[Epoch 36/100][loss: 257.667789] [Time: 38.979154s]\n",
      "[Epoch 37/100][loss: 251.729703] [Time: 39.186619s]\n",
      "[Epoch 38/100][loss: 246.970680] [Time: 39.419015s]\n",
      "[Epoch 39/100][loss: 243.785148] [Time: 38.863853s]\n",
      "[Epoch 40/100][loss: 242.252097] [Time: 39.291463s]\n",
      "[Epoch 41/100][loss: 242.614395] [Time: 39.209299s]\n",
      "[Epoch 42/100][loss: 244.610579] [Time: 39.303955s]\n",
      "[Epoch 43/100][loss: 248.304558] [Time: 38.840813s]\n"
     ]
    }
   ],
   "source": [
    "criterion = torch.nn.MSELoss(reduction='mean') \n",
    "n_in, n_out = n_levels*n_sublevel*n_azimuth*n_theta*n_phase, np.prod(img_orig.shape)\n",
    "\n",
    "\n",
    "def learn(n_epochs=n_epochs, momentum=momentum, \n",
    "          lr=lr, weight_decay=weight_decay, verbose=False):\n",
    "    import time\n",
    "    invert = Invert(n_in=n_in, n_out=n_out, verbose=verbose)\n",
    "\n",
    "    # set a relative precision required proportional to the mask\n",
    "    mask_ = im.mask.ravel()\n",
    "    mask_im = torch.from_numpy(mask_[None, None, :])\n",
    "\n",
    "    def init_weights(m):\n",
    "        if verbose: print(m)\n",
    "        if type(m) == torch.nn.Linear:\n",
    "            m.weight.data = K.std() * torch.randn_like(m.weight.data)\n",
    "            m.weight.data *= torch.from_numpy(mask_[:, None]) * torch.ones((1, n_in))\n",
    "    invert.KT.apply(init_weights)\n",
    "\n",
    "    invert = invert.to(device)\n",
    "\n",
    "    # optimizer = torch.optim.SGD(invert.parameters(), \n",
    "    #                            lr=lr, momentum=momentum, \n",
    "    #                            weight_decay=weight_decay)\n",
    "    # https://pytorch.org/docs/stable/optim.html#torch.optim.Adam\n",
    "    optimizer = torch.optim.Adam(invert.parameters(), lr=lr, \n",
    "                                 betas=(momentum, 0.999), eps=1e-08, \n",
    "                                 weight_decay=weight_decay)\n",
    "\n",
    "    # ----------\n",
    "    #  Training\n",
    "    # ----------\n",
    "    loss_0 = None\n",
    "    invert.train()\n",
    "    for epoch in range(n_epochs):\n",
    "        t_batch = time.time()\n",
    "        for batch_idx, (target, x) in enumerate(dataloader):\n",
    "            #print(target.shape, x.shape)\n",
    "            target = target.squeeze(1)\n",
    "            #print(target.shape, x.shape)\n",
    "            target = target.reshape((target.shape[0], n_out))\n",
    "            x = x.reshape((target.shape[0], n_in))\n",
    "            #print(target.shape, x.shape)\n",
    "\n",
    "            target, x = target.to(device), x.to(device)\n",
    "\n",
    "            optimizer.zero_grad()\n",
    "            im_rec = invert(x)\n",
    "            if loss_0 is None:\n",
    "                loss_0 = criterion(target, torch.zeros_like(target))\n",
    "            loss = criterion(target, im_rec) / loss_0\n",
    "            #loss = criterion(target*mask_im, im_rec*mask_im) / loss_0\n",
    "            loss.backward()\n",
    "            optimizer.step()\n",
    "\n",
    "        if verbose: print(\"[Epoch %d/%d][loss: %f] [Time: %fs]\" % (epoch+1, n_epochs, loss.item(), time.time()-t_batch))\n",
    "\n",
    "    invert.eval()\n",
    "    return invert, loss.item()\n",
    "invert, loss = learn(verbose=True)\n"
   ]
  },
  {
   "cell_type": "code",
   "execution_count": null,
   "metadata": {},
   "outputs": [],
   "source": [
    "print(K.std(), invert.KT.weight.data.std())"
   ]
  },
  {
   "cell_type": "markdown",
   "metadata": {},
   "source": [
    "## reconstructing one image"
   ]
  },
  {
   "cell_type": "code",
   "execution_count": null,
   "metadata": {},
   "outputs": [],
   "source": [
    "for batch_idx, (target, x) in enumerate(dataloader):\n",
    "    print(batch_idx, target.shape, x.shape)"
   ]
  },
  {
   "cell_type": "code",
   "execution_count": null,
   "metadata": {},
   "outputs": [],
   "source": [
    "i_target = 0\n",
    "img_tens = target[i_target, :].reshape(img_orig.shape)\n",
    "x_target = x[i_target, :]\n",
    "#print('x_target.shape', x_target.shape)\n",
    "# x_target = torch.tensordot(cropped_pyramid(target[i_target, :].reshape(img_orig.shape)[None, None, ...]), K, dims=2)\n",
    "x_target = x_target.reshape((1, n_levels*n_sublevel*n_azimuth*n_theta*n_phase))\n",
    "#print('x_target.shape', x_target.shape)\n",
    "im_rec = invert(x_target).reshape(img_tens.shape)\n",
    "#print('im_rec.shape', im_rec.shape)"
   ]
  },
  {
   "cell_type": "code",
   "execution_count": null,
   "metadata": {},
   "outputs": [],
   "source": [
    "fig, axs = plt.subplots(1, 2, figsize=(20,20))\n",
    "for ax, img in zip(axs, [img_tens, im_rec.detach()]):\n",
    "    ax.imshow(img.numpy(), cmap='gray')\n",
    "    ax.plot([img_orig.shape[1]/2], [img_orig.shape[0]/2], 'r+', ms=32);"
   ]
  },
  {
   "cell_type": "markdown",
   "metadata": {},
   "source": [
    "## validating on the test set"
   ]
  },
  {
   "cell_type": "code",
   "execution_count": null,
   "metadata": {},
   "outputs": [],
   "source": [
    "test_dataloader = get_dataloader(1, verbose=False)\n",
    "for batch_idx, (target, x) in enumerate(test_dataloader):\n",
    "    print(batch_idx, target.shape, x.shape)"
   ]
  },
  {
   "cell_type": "code",
   "execution_count": null,
   "metadata": {},
   "outputs": [],
   "source": [
    "i_target = 0\n",
    "img_tens = target[i_target, :].reshape(img_orig.shape)\n",
    "x_target = x[i_target, :].reshape((1, n_levels*n_sublevel*n_azimuth*n_theta*n_phase))\n",
    "im_rec = invert(x_target).reshape(img_tens.shape)"
   ]
  },
  {
   "cell_type": "code",
   "execution_count": null,
   "metadata": {},
   "outputs": [],
   "source": [
    "fig, axs = plt.subplots(1, 2, figsize=(20,20))\n",
    "for ax, img in zip(axs, [img_tens, im_rec.detach()]):\n",
    "    ax.imshow(img.numpy(), cmap='gray')\n",
    "    ax.plot([img_orig.shape[1]/2], [img_orig.shape[0]/2], 'r+', ms=32);"
   ]
  },
  {
   "cell_type": "markdown",
   "metadata": {},
   "source": [
    "## testing different parameters"
   ]
  },
  {
   "cell_type": "code",
   "execution_count": null,
   "metadata": {},
   "outputs": [],
   "source": [
    "test_dataloader = get_dataloader(20, verbose=False)\n",
    "for batch_idx, (target, x) in enumerate(test_dataloader):\n",
    "    print(batch_idx, target.shape, x.shape)\n",
    "loss_0 = criterion(target, torch.zeros_like(target))\n",
    "N_test = 5"
   ]
  },
  {
   "cell_type": "code",
   "execution_count": null,
   "metadata": {},
   "outputs": [],
   "source": [
    "weight_decay_0 = .0001\n",
    "\n",
    "for weight_decay_ in weight_decay_0*np.logspace(-1, 1, N_test, endpoint=True, base=4):\n",
    "    invert, loss = learn(n_epochs=n_epochs//4, momentum=momentum, lr=lr, weight_decay=weight_decay_, verbose=False)\n",
    "    invert.eval()\n",
    "    target = target.squeeze(1)\n",
    "    target = target.reshape((target.shape[0], n_out))\n",
    "    x = x.reshape((target.shape[0], n_in))\n",
    "    im_rec = invert(x)\n",
    "    test_loss = criterion(target, im_rec) / loss_0\n",
    "    print('weight_decay_ =', weight_decay_, '/ loss =', loss, '/ test_loss =', test_loss)"
   ]
  },
  {
   "cell_type": "code",
   "execution_count": null,
   "metadata": {},
   "outputs": [],
   "source": [
    "weight_decay_0 = weight_decay\n",
    "N_test = 5\n",
    "for weight_decay_ in weight_decay_0*np.logspace(-1, 1, N_test, endpoint=True, base=4):\n",
    "    invert, loss = learn(n_epochs=n_epochs//4, momentum=momentum, lr=lr, weight_decay=weight_decay_, verbose=False)\n",
    "    invert.eval()\n",
    "    target = target.squeeze(1)\n",
    "    target = target.reshape((target.shape[0], n_out))\n",
    "    x = x.reshape((target.shape[0], n_in))\n",
    "    im_rec = invert(x)\n",
    "    test_loss = criterion(target, im_rec) / loss_0\n",
    "    print('weight_decay_ =', weight_decay_, '/ loss =', loss, '/ test_loss =', test_loss)"
   ]
  },
  {
   "cell_type": "code",
   "execution_count": null,
   "metadata": {},
   "outputs": [],
   "source": [
    "for lr_ in lr*np.logspace(-1, 1, N_test, endpoint=True, base=4):\n",
    "    invert, loss = learn(n_epochs=n_epochs//4, momentum=momentum, lr=lr_, weight_decay=weight_decay, verbose=False)\n",
    "    invert.eval()\n",
    "    target = target.squeeze(1)\n",
    "    target = target.reshape((target.shape[0], n_out))\n",
    "    x = x.reshape((target.shape[0], n_in))\n",
    "    im_rec = invert(x)\n",
    "    test_loss = criterion(target, im_rec) / loss_0\n",
    "    print('weight_decay_ =', weight_decay_, '/ loss =', loss, '/ test_loss =', test_loss)"
   ]
  },
  {
   "cell_type": "code",
   "execution_count": null,
   "metadata": {},
   "outputs": [],
   "source": [
    "for momentum_ in np.linspace(0.5, 1, N_test, endpoint=True):\n",
    "    invert, loss = learn(n_epochs=n_epochs//4, momentum=momentum_, lr=lr, weight_decay=weight_decay, verbose=False)\n",
    "    invert.eval()\n",
    "    target = target.squeeze(1)\n",
    "    target = target.reshape((target.shape[0], n_out))\n",
    "    x = x.reshape((target.shape[0], n_in))\n",
    "    im_rec = invert(x)\n",
    "    test_loss = criterion(target, im_rec) / loss_0\n",
    "    print('weight_decay_ =', weight_decay_, '/ loss =', loss, '/ test_loss =', test_loss)"
   ]
  },
  {
   "cell_type": "code",
   "execution_count": null,
   "metadata": {},
   "outputs": [],
   "source": []
  }
 ],
 "metadata": {
  "kernelspec": {
   "display_name": "Python 3",
   "language": "python",
   "name": "python3"
  },
  "language_info": {
   "codemirror_mode": {
    "name": "ipython",
    "version": 3
   },
   "file_extension": ".py",
   "mimetype": "text/x-python",
   "name": "python",
   "nbconvert_exporter": "python",
   "pygments_lexer": "ipython3",
   "version": "3.7.6"
  }
 },
 "nbformat": 4,
 "nbformat_minor": 4
}
